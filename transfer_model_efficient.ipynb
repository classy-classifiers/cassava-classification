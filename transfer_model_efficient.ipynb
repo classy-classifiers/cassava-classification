{
  "nbformat": 4,
  "nbformat_minor": 0,
  "metadata": {
    "accelerator": "GPU",
    "colab": {
      "name": "transfer_model_efficient.ipynb",
      "provenance": [],
      "collapsed_sections": [],
      "machine_shape": "hm",
      "include_colab_link": true
    },
    "kernelspec": {
      "display_name": "Python 3",
      "name": "python3"
    },
    "widgets": {
      "application/vnd.jupyter.widget-state+json": {
        "20d942989e8c411c9e8dd217d5ac1e41": {
          "model_module": "@jupyter-widgets/controls",
          "model_name": "VBoxModel",
          "state": {
            "_view_name": "VBoxView",
            "_dom_classes": [],
            "_model_name": "VBoxModel",
            "_view_module": "@jupyter-widgets/controls",
            "_model_module_version": "1.5.0",
            "_view_count": null,
            "_view_module_version": "1.5.0",
            "box_style": "",
            "layout": "IPY_MODEL_379b3607f52b417fa23bd56004aec7ac",
            "_model_module": "@jupyter-widgets/controls",
            "children": [
              "IPY_MODEL_dc865f6a89134cb496df7defab63ab81",
              "IPY_MODEL_d03c1eec93e344cf9bb736339fde437c"
            ]
          }
        },
        "379b3607f52b417fa23bd56004aec7ac": {
          "model_module": "@jupyter-widgets/base",
          "model_name": "LayoutModel",
          "state": {
            "_view_name": "LayoutView",
            "grid_template_rows": null,
            "right": null,
            "justify_content": null,
            "_view_module": "@jupyter-widgets/base",
            "overflow": null,
            "_model_module_version": "1.2.0",
            "_view_count": null,
            "flex_flow": null,
            "width": null,
            "min_width": null,
            "border": null,
            "align_items": null,
            "bottom": null,
            "_model_module": "@jupyter-widgets/base",
            "top": null,
            "grid_column": null,
            "overflow_y": null,
            "overflow_x": null,
            "grid_auto_flow": null,
            "grid_area": null,
            "grid_template_columns": null,
            "flex": null,
            "_model_name": "LayoutModel",
            "justify_items": null,
            "grid_row": null,
            "max_height": null,
            "align_content": null,
            "visibility": null,
            "align_self": null,
            "height": null,
            "min_height": null,
            "padding": null,
            "grid_auto_rows": null,
            "grid_gap": null,
            "max_width": null,
            "order": null,
            "_view_module_version": "1.2.0",
            "grid_template_areas": null,
            "object_position": null,
            "object_fit": null,
            "grid_auto_columns": null,
            "margin": null,
            "display": null,
            "left": null
          }
        },
        "dc865f6a89134cb496df7defab63ab81": {
          "model_module": "@jupyter-widgets/controls",
          "model_name": "LabelModel",
          "state": {
            "_view_name": "LabelView",
            "style": "IPY_MODEL_d03682ec1af94e8fbd3becbd40399237",
            "_dom_classes": [],
            "description": "",
            "_model_name": "LabelModel",
            "placeholder": "​",
            "_view_module": "@jupyter-widgets/controls",
            "_model_module_version": "1.5.0",
            "value": " 65.77MB of 65.77MB uploaded (0.00MB deduped)\r",
            "_view_count": null,
            "_view_module_version": "1.5.0",
            "description_tooltip": null,
            "_model_module": "@jupyter-widgets/controls",
            "layout": "IPY_MODEL_95c81caf660b441dbc85d26685da3d33"
          }
        },
        "d03c1eec93e344cf9bb736339fde437c": {
          "model_module": "@jupyter-widgets/controls",
          "model_name": "FloatProgressModel",
          "state": {
            "_view_name": "ProgressView",
            "style": "IPY_MODEL_4b1257648a6e480cbcdd49e104ab8336",
            "_dom_classes": [],
            "description": "",
            "_model_name": "FloatProgressModel",
            "bar_style": "",
            "max": 1,
            "_view_module": "@jupyter-widgets/controls",
            "_model_module_version": "1.5.0",
            "value": 1,
            "_view_count": null,
            "_view_module_version": "1.5.0",
            "orientation": "horizontal",
            "min": 0,
            "description_tooltip": null,
            "_model_module": "@jupyter-widgets/controls",
            "layout": "IPY_MODEL_5cc765ea0f1c40d0a0e6e7e89c77bf8a"
          }
        },
        "d03682ec1af94e8fbd3becbd40399237": {
          "model_module": "@jupyter-widgets/controls",
          "model_name": "DescriptionStyleModel",
          "state": {
            "_view_name": "StyleView",
            "_model_name": "DescriptionStyleModel",
            "description_width": "",
            "_view_module": "@jupyter-widgets/base",
            "_model_module_version": "1.5.0",
            "_view_count": null,
            "_view_module_version": "1.2.0",
            "_model_module": "@jupyter-widgets/controls"
          }
        },
        "95c81caf660b441dbc85d26685da3d33": {
          "model_module": "@jupyter-widgets/base",
          "model_name": "LayoutModel",
          "state": {
            "_view_name": "LayoutView",
            "grid_template_rows": null,
            "right": null,
            "justify_content": null,
            "_view_module": "@jupyter-widgets/base",
            "overflow": null,
            "_model_module_version": "1.2.0",
            "_view_count": null,
            "flex_flow": null,
            "width": null,
            "min_width": null,
            "border": null,
            "align_items": null,
            "bottom": null,
            "_model_module": "@jupyter-widgets/base",
            "top": null,
            "grid_column": null,
            "overflow_y": null,
            "overflow_x": null,
            "grid_auto_flow": null,
            "grid_area": null,
            "grid_template_columns": null,
            "flex": null,
            "_model_name": "LayoutModel",
            "justify_items": null,
            "grid_row": null,
            "max_height": null,
            "align_content": null,
            "visibility": null,
            "align_self": null,
            "height": null,
            "min_height": null,
            "padding": null,
            "grid_auto_rows": null,
            "grid_gap": null,
            "max_width": null,
            "order": null,
            "_view_module_version": "1.2.0",
            "grid_template_areas": null,
            "object_position": null,
            "object_fit": null,
            "grid_auto_columns": null,
            "margin": null,
            "display": null,
            "left": null
          }
        },
        "4b1257648a6e480cbcdd49e104ab8336": {
          "model_module": "@jupyter-widgets/controls",
          "model_name": "ProgressStyleModel",
          "state": {
            "_view_name": "StyleView",
            "_model_name": "ProgressStyleModel",
            "description_width": "",
            "_view_module": "@jupyter-widgets/base",
            "_model_module_version": "1.5.0",
            "_view_count": null,
            "_view_module_version": "1.2.0",
            "bar_color": null,
            "_model_module": "@jupyter-widgets/controls"
          }
        },
        "5cc765ea0f1c40d0a0e6e7e89c77bf8a": {
          "model_module": "@jupyter-widgets/base",
          "model_name": "LayoutModel",
          "state": {
            "_view_name": "LayoutView",
            "grid_template_rows": null,
            "right": null,
            "justify_content": null,
            "_view_module": "@jupyter-widgets/base",
            "overflow": null,
            "_model_module_version": "1.2.0",
            "_view_count": null,
            "flex_flow": null,
            "width": null,
            "min_width": null,
            "border": null,
            "align_items": null,
            "bottom": null,
            "_model_module": "@jupyter-widgets/base",
            "top": null,
            "grid_column": null,
            "overflow_y": null,
            "overflow_x": null,
            "grid_auto_flow": null,
            "grid_area": null,
            "grid_template_columns": null,
            "flex": null,
            "_model_name": "LayoutModel",
            "justify_items": null,
            "grid_row": null,
            "max_height": null,
            "align_content": null,
            "visibility": null,
            "align_self": null,
            "height": null,
            "min_height": null,
            "padding": null,
            "grid_auto_rows": null,
            "grid_gap": null,
            "max_width": null,
            "order": null,
            "_view_module_version": "1.2.0",
            "grid_template_areas": null,
            "object_position": null,
            "object_fit": null,
            "grid_auto_columns": null,
            "margin": null,
            "display": null,
            "left": null
          }
        }
      }
    }
  },
  "cells": [
    {
      "cell_type": "markdown",
      "metadata": {
        "id": "view-in-github",
        "colab_type": "text"
      },
      "source": [
        "<a href=\"https://colab.research.google.com/github/classy-classifiers/cassava-classification/blob/main/transfer_model_efficient.ipynb\" target=\"_parent\"><img src=\"https://colab.research.google.com/assets/colab-badge.svg\" alt=\"Open In Colab\"/></a>"
      ]
    },
    {
      "cell_type": "markdown",
      "metadata": {
        "id": "OZclWHduyAB4"
      },
      "source": [
        "Efficient Net Model"
      ]
    },
    {
      "cell_type": "code",
      "metadata": {
        "colab": {
          "base_uri": "https://localhost:8080/"
        },
        "id": "LA13_4uQgD5M",
        "outputId": "09dd4192-bbbd-46bc-f6ac-527cb652a256"
      },
      "source": [
        "from google.colab import drive\n",
        "drive.mount('/content/drive/')"
      ],
      "execution_count": 1,
      "outputs": [
        {
          "output_type": "stream",
          "text": [
            "Drive already mounted at /content/drive/; to attempt to forcibly remount, call drive.mount(\"/content/drive/\", force_remount=True).\n"
          ],
          "name": "stdout"
        }
      ]
    },
    {
      "cell_type": "code",
      "metadata": {
        "id": "QC490JqQgu0y",
        "colab": {
          "base_uri": "https://localhost:8080/"
        },
        "outputId": "8c69853c-baf9-4a48-9722-15e9be5cc1cb"
      },
      "source": [
        "!mkdir .kaggle"
      ],
      "execution_count": 2,
      "outputs": [
        {
          "output_type": "stream",
          "text": [
            "mkdir: cannot create directory ‘.kaggle’: File exists\n"
          ],
          "name": "stdout"
        }
      ]
    },
    {
      "cell_type": "markdown",
      "metadata": {
        "id": "-Xh4-Si4r8yK"
      },
      "source": [
        ""
      ]
    },
    {
      "cell_type": "code",
      "metadata": {
        "id": "7KgwnAXHgw4u"
      },
      "source": [
        "import json\n",
        "token = {\"username\":\"jilliangreen\",\"key\":\"de8d19d0ee14c2b4abc79bda5401e3d3\"}\n",
        "with open('/content/.kaggle/kaggle.json', 'w') as file:\n",
        "  json.dump(token, file)"
      ],
      "execution_count": 3,
      "outputs": []
    },
    {
      "cell_type": "code",
      "metadata": {
        "colab": {
          "base_uri": "https://localhost:8080/"
        },
        "id": "PLlfoRi8gy0D",
        "outputId": "4c6b5c86-1661-45b7-9e62-95b71a77c914"
      },
      "source": [
        "!mkdir ~/.kaggle\n",
        "!echo '{\"username\":\"jilliangreen\",\"key\":\"de8d19d0ee14c2b4abc79bda5401e3d3\"}' > ~/.kaggle/kaggle.json\n",
        "!chmod 600 ~/.kaggle/kaggle.json && pip install kaggle\n",
        "!pip install --upgrade --force-reinstall --no-deps kaggle\n",
        "!rm -r cassava-leaf-disease-classification\n",
        "!mkdir cassava-leaf-disease-classification\n",
        "!kaggle competitions download -c cassava-leaf-disease-classification -p cassava-leaf-disease-classification"
      ],
      "execution_count": 4,
      "outputs": [
        {
          "output_type": "stream",
          "text": [
            "mkdir: cannot create directory ‘/root/.kaggle’: File exists\n",
            "Requirement already satisfied: kaggle in /usr/local/lib/python3.7/dist-packages (1.5.12)\n",
            "Requirement already satisfied: python-dateutil in /usr/local/lib/python3.7/dist-packages (from kaggle) (2.8.1)\n",
            "Requirement already satisfied: urllib3 in /usr/local/lib/python3.7/dist-packages (from kaggle) (1.24.3)\n",
            "Requirement already satisfied: tqdm in /usr/local/lib/python3.7/dist-packages (from kaggle) (4.41.1)\n",
            "Requirement already satisfied: requests in /usr/local/lib/python3.7/dist-packages (from kaggle) (2.23.0)\n",
            "Requirement already satisfied: six>=1.10 in /usr/local/lib/python3.7/dist-packages (from kaggle) (1.15.0)\n",
            "Requirement already satisfied: certifi in /usr/local/lib/python3.7/dist-packages (from kaggle) (2020.12.5)\n",
            "Requirement already satisfied: python-slugify in /usr/local/lib/python3.7/dist-packages (from kaggle) (4.0.1)\n",
            "Requirement already satisfied: idna<3,>=2.5 in /usr/local/lib/python3.7/dist-packages (from requests->kaggle) (2.10)\n",
            "Requirement already satisfied: chardet<4,>=3.0.2 in /usr/local/lib/python3.7/dist-packages (from requests->kaggle) (3.0.4)\n",
            "Requirement already satisfied: text-unidecode>=1.3 in /usr/local/lib/python3.7/dist-packages (from python-slugify->kaggle) (1.3)\n",
            "Processing /root/.cache/pip/wheels/a1/6a/26/d30b7499ff85a4a4593377a87ecf55f7d08af42f0de9b60303/kaggle-1.5.12-cp37-none-any.whl\n",
            "Installing collected packages: kaggle\n",
            "  Found existing installation: kaggle 1.5.12\n",
            "    Uninstalling kaggle-1.5.12:\n",
            "      Successfully uninstalled kaggle-1.5.12\n",
            "Successfully installed kaggle-1.5.12\n",
            "Downloading cassava-leaf-disease-classification.zip to cassava-leaf-disease-classification\n",
            "100% 5.76G/5.76G [01:01<00:00, 46.4MB/s]\n",
            "100% 5.76G/5.76G [01:01<00:00, 99.8MB/s]\n"
          ],
          "name": "stdout"
        }
      ]
    },
    {
      "cell_type": "code",
      "metadata": {
        "colab": {
          "base_uri": "https://localhost:8080/"
        },
        "id": "HnTiNd0mg1wJ",
        "outputId": "e73b9443-62f4-4753-a3d8-7563f8cfcf6b"
      },
      "source": [
        "from zipfile import ZipFile\n",
        "file_name = '/content/cassava-leaf-disease-classification/cassava-leaf-disease-classification.zip'\n",
        "\n",
        "with ZipFile(file_name, 'r') as zip:\n",
        "\n",
        "  print(\"Extracting new files\")\n",
        "  zip.extractall()\n",
        "  print(\"done!\")"
      ],
      "execution_count": 5,
      "outputs": [
        {
          "output_type": "stream",
          "text": [
            "Extracting new files\n",
            "done!\n"
          ],
          "name": "stdout"
        }
      ]
    },
    {
      "cell_type": "markdown",
      "metadata": {
        "id": "bQML7nZMv6Px"
      },
      "source": [
        "***Import Statements***"
      ]
    },
    {
      "cell_type": "code",
      "metadata": {
        "id": "3EOyGTCWjCIl"
      },
      "source": [
        "# import packages\n",
        "import math, re, os, random, cv2\n",
        "import tensorflow as tf\n",
        "import numpy as np\n",
        "import pandas as pd\n",
        "import matplotlib.pyplot as plt\n",
        "from tensorflow import keras\n",
        "from functools import partial\n",
        "from sklearn.model_selection import train_test_split\n",
        "from matplotlib import pyplot as plt\n",
        "\n",
        "from tensorflow.keras.optimizers import Adam\n",
        "\n",
        "from tensorflow.keras.callbacks import ModelCheckpoint, EarlyStopping, ReduceLROnPlateau\n",
        "  \n",
        "\n",
        "from tensorflow.keras.applications import EfficientNetB0, EfficientNetB7, EfficientNetB5,EfficientNetB3,EfficientNetB4,EfficientNetB2,EfficientNetB1\n",
        "from tensorflow.keras.models import Sequential, Model\n",
        "from tensorflow.keras import layers, regularizers,utils\n",
        "\n",
        "from tensorflow.keras.layers import Dense, AveragePooling2D,Dropout, Activation, Flatten, GlobalAveragePooling2D, InputLayer, GlobalMaxPooling2D,Conv2D, MaxPooling2D, ZeroPadding2D,LeakyReLU\n",
        "from keras.layers.normalization import BatchNormalization\n",
        "from keras.layers.experimental.preprocessing import RandomFlip, RandomRotation, RandomTranslation, RandomZoom, RandomContrast\n",
        "from keras import backend\n",
        "\n",
        "\n",
        "from keras.initializers import glorot_uniform\n",
        "from keras.optimizers import SGD,Adam\n",
        "\n",
        "\n",
        "!pip install -q wandb\n",
        "import wandb\n",
        "from wandb.keras import WandbCallback\n",
        "\n"
      ],
      "execution_count": 6,
      "outputs": []
    },
    {
      "cell_type": "markdown",
      "metadata": {
        "id": "IeNuYYzqv8UY"
      },
      "source": [
        "***Set Parameters***"
      ]
    },
    {
      "cell_type": "code",
      "metadata": {
        "colab": {
          "base_uri": "https://localhost:8080/",
          "height": 600
        },
        "id": "A1b1Oi_tCZVn",
        "outputId": "da0a692b-cfee-44f2-dda3-a3a2b84d221f"
      },
      "source": [
        "AUTOTUNE = tf.data.experimental.AUTOTUNE\n",
        "BATCH_SIZE = 16\n",
        "EPOCHS = 100\n",
        "LR = 0.001\n",
        "img_rows, img_cols = 600, 800\n",
        "num_classes = 5\n",
        "\n",
        "CROP_FACTOR= 0.7\n",
        "IMAGE_SIZE = [int((520*CROP_FACTOR)-4)]*2\n",
        "DROPOUT_RATE = 0.5\n",
        "\n",
        "#BASE_LR = 0.00001\n",
        "#HEAD_LR = 0.001\n",
        "\n",
        "wandb.init(project=\"EfficientNet\")"
      ],
      "execution_count": 7,
      "outputs": [
        {
          "output_type": "stream",
          "text": [
            "\u001b[34m\u001b[1mwandb\u001b[0m: Currently logged in as: \u001b[33mjgreen\u001b[0m (use `wandb login --relogin` to force relogin)\n"
          ],
          "name": "stderr"
        },
        {
          "output_type": "display_data",
          "data": {
            "text/html": [
              "\n",
              "                Tracking run with wandb version 0.10.22<br/>\n",
              "                Syncing run <strong style=\"color:#cdcd00\">fallen-pond-35</strong> to <a href=\"https://wandb.ai\" target=\"_blank\">Weights & Biases</a> <a href=\"https://docs.wandb.com/integrations/jupyter.html\" target=\"_blank\">(Documentation)</a>.<br/>\n",
              "                Project page: <a href=\"https://wandb.ai/jgreen/EfficientNet\" target=\"_blank\">https://wandb.ai/jgreen/EfficientNet</a><br/>\n",
              "                Run page: <a href=\"https://wandb.ai/jgreen/EfficientNet/runs/md40icyu\" target=\"_blank\">https://wandb.ai/jgreen/EfficientNet/runs/md40icyu</a><br/>\n",
              "                Run data is saved locally in <code>/content/wandb/run-20210321_184620-md40icyu</code><br/><br/>\n",
              "            "
            ],
            "text/plain": [
              "<IPython.core.display.HTML object>"
            ]
          },
          "metadata": {
            "tags": []
          }
        },
        {
          "output_type": "execute_result",
          "data": {
            "text/plain": [
              "<wandb.sdk.wandb_run.Run at 0x7f70ccc120d0>"
            ],
            "text/html": [
              "<h1>Run(md40icyu)</h1><iframe src=\"https://wandb.ai/jgreen/EfficientNet/runs/md40icyu\" style=\"border:none;width:100%;height:400px\"></iframe>"
            ]
          },
          "metadata": {
            "tags": []
          },
          "execution_count": 7
        }
      ]
    },
    {
      "cell_type": "markdown",
      "metadata": {
        "id": "LMvJCI3ZEw__"
      },
      "source": [
        "***TFRecord Functions***"
      ]
    },
    {
      "cell_type": "code",
      "metadata": {
        "id": "LGjVyzNQCZbc"
      },
      "source": [
        "def decode_image(image):\n",
        "    image = tf.image.decode_jpeg(image, channels=3)\n",
        "    image = tf.cast(image, tf.float32)\n",
        "    image = tf.image.central_crop(image, CROP_FACTOR)\n",
        "    image = image / 255.0 # rescale\n",
        "    return image\n",
        "\n",
        "# previously used: resize, crop_to_bounding_box, reshape(image, [*IMAGE_SIZE, 3])\n",
        "\n",
        "def read_tfrecord(example, labeled):\n",
        "    tfrecord_format = ({\n",
        "            \"image\": tf.io.FixedLenFeature([], tf.string),\n",
        "            \"target\": tf.io.FixedLenFeature([], tf.int64),\n",
        "        } if labeled else {\n",
        "            \"image\": tf.io.FixedLenFeature([], tf.string),\n",
        "            })\n",
        "    example = tf.io.parse_single_example(example, tfrecord_format)\n",
        "    image = decode_image(example[\"image\"])\n",
        "\n",
        "    if labeled:\n",
        "      label = tf.cast(example[\"target\"], tf.int32)\n",
        "      label = tf.one_hot(label, 5)\n",
        "      return image, label\n",
        "\n",
        "    return image\n",
        "\n",
        "\n",
        "def load_dataset(filenames, labeled=True):\n",
        "\n",
        "    ignore_order = tf.data.Options()\n",
        "    ignore_order.experimental_deterministic = False  # disable order, increase speed\n",
        "    dataset = tf.data.TFRecordDataset(\n",
        "        filenames\n",
        "    )  # automatically interleaves reads from multiple files\n",
        "    dataset = dataset.with_options(\n",
        "        ignore_order\n",
        "    )  # uses data as soon as it streams in, rather than in its original order\n",
        "    dataset = dataset.map(\n",
        "        partial(read_tfrecord, labeled=labeled), num_parallel_calls=AUTOTUNE\n",
        "    )\n",
        "    # returns a dataset of (image, label) pairs if labeled=True or just images if labeled=False\n",
        "    return dataset\n",
        "\n",
        "def data_augment(image, label):\n",
        "    #image = tf.image.random_flip_left_right(image)\n",
        "    return image, label\n"
      ],
      "execution_count": 8,
      "outputs": []
    },
    {
      "cell_type": "markdown",
      "metadata": {
        "id": "NBRq3MH0E2G-"
      },
      "source": [
        "***Split the Data, Verify Split Count***"
      ]
    },
    {
      "cell_type": "code",
      "metadata": {
        "id": "4x9mGTUfvsho",
        "colab": {
          "base_uri": "https://localhost:8080/"
        },
        "outputId": "490ec5f7-5229-4d57-dc6e-7b6493bd67fb"
      },
      "source": [
        "\n",
        "# split data into training and validation data\n",
        "training_dataset, valid_dataset= train_test_split(tf.io.gfile.glob(\"train_tfrecords/*.tfrec\"),\n",
        "                                                  train_size=0.8, \n",
        "                                                  random_state=3\n",
        ")\n",
        "\n",
        "\n",
        "# check training/validation split\n",
        "def count_data_items(filenames):\n",
        "    n = [int(re.compile(r\"-([0-9]*)\\.\").search(filename).group(1)) for filename in filenames]\n",
        "    return np.sum(n)\n",
        "\n",
        "NUM_TRAINING_IMAGES = count_data_items(training_dataset)\n",
        "NUM_VALIDATION_IMAGES = count_data_items(valid_dataset)\n",
        "\n",
        "print('Dataset: {} training images, {} validation images'.format(\n",
        "    NUM_TRAINING_IMAGES, NUM_VALIDATION_IMAGES))\n"
      ],
      "execution_count": 9,
      "outputs": [
        {
          "output_type": "stream",
          "text": [
            "Dataset: 16045 training images, 5352 validation images\n"
          ],
          "name": "stdout"
        }
      ]
    },
    {
      "cell_type": "markdown",
      "metadata": {
        "id": "1xfQ2htOvwp2"
      },
      "source": [
        "***Create Datasets using TFRecord***"
      ]
    },
    {
      "cell_type": "code",
      "metadata": {
        "id": "47QIzrrmUre-"
      },
      "source": [
        "def get_training_dataset():\n",
        "    dataset = load_dataset(training_dataset, labeled=True)  \n",
        "    dataset = dataset.map(data_augment, num_parallel_calls=AUTOTUNE)  \n",
        "    dataset = dataset.repeat()\n",
        "    dataset = dataset.shuffle(2048)\n",
        "    dataset = dataset.batch(BATCH_SIZE)\n",
        "    dataset = dataset.prefetch(AUTOTUNE)\n",
        "    return dataset\n",
        "\n",
        "def get_validation_dataset(ordered=False):\n",
        "    dataset = load_dataset(valid_dataset, labeled=True) \n",
        "    dataset = dataset.batch(BATCH_SIZE)\n",
        "    dataset = dataset.cache()\n",
        "    dataset = dataset.prefetch(AUTOTUNE)\n",
        "    return dataset\n",
        "\n",
        "\n",
        "# get training and validation data\n",
        "train_dataset = get_training_dataset()\n",
        "val_dataset = get_validation_dataset()\n"
      ],
      "execution_count": 10,
      "outputs": []
    },
    {
      "cell_type": "markdown",
      "metadata": {
        "id": "1dt8xWjEE60Z"
      },
      "source": [
        "***Set Up Data Augmentation***"
      ]
    },
    {
      "cell_type": "code",
      "metadata": {
        "id": "hxCQGmAtMn09"
      },
      "source": [
        "data_augmentation = Sequential([\n",
        "    # layers.experimental.preprocessing.RandomCrop(height=100, width=100),\n",
        "    layers.experimental.preprocessing.RandomFlip(\"horizontal_and_vertical\"),\n",
        "    layers.experimental.preprocessing.RandomRotation(factor=0.2), #(-0.125,0.125)),\n",
        "    layers.experimental.preprocessing.RandomTranslation(height_factor=0.2, width_factor=0.2),\n",
        "    # layers.experimental.preprocessing.RandomZoom(height_factor=(-0.2,0.2), width_factor=(-0.2,0.2)),\n",
        "    layers.experimental.preprocessing.RandomContrast(factor=0.2)\n",
        "])"
      ],
      "execution_count": 11,
      "outputs": []
    },
    {
      "cell_type": "markdown",
      "metadata": {
        "id": "IS4TPXtvE-EE"
      },
      "source": [
        "***Clear Session***"
      ]
    },
    {
      "cell_type": "code",
      "metadata": {
        "id": "z8C7TVi139OG"
      },
      "source": [
        "backend.clear_session()"
      ],
      "execution_count": 12,
      "outputs": []
    },
    {
      "cell_type": "markdown",
      "metadata": {
        "id": "Ks43_0Hn2PtY"
      },
      "source": [
        "***Defining model with data augmentation at the front***"
      ]
    },
    {
      "cell_type": "code",
      "metadata": {
        "id": "My5Lctjbevpa"
      },
      "source": [
        "def EfficientNet():\n",
        "\n",
        "  input_shape=(int(IMAGE_SIZE[0]),int(IMAGE_SIZE[1]),3)\n",
        "  inputs = tf.keras.Input(shape=input_shape)\n",
        "  data_aug = data_augmentation(inputs) \n",
        "\n",
        "  base = EfficientNetB0(weights = 'imagenet', \n",
        "                        include_top = False, \n",
        "                        input_shape=input_shape\n",
        "                        )\n",
        "\n",
        "  model = base(data_aug)\n",
        "  model = GlobalAveragePooling2D()(model)\n",
        "  model = Dropout(DROPOUT_RATE)(model)\n",
        "\n",
        "  model = Dense(512,activation='relu',  kernel_regularizer='l2')(model)\n",
        "  model = BatchNormalization()(model)\n",
        "\n",
        "  output = Dense(num_classes, activation='softmax')(model)\n",
        "\n",
        "  model = Model(inputs = inputs, outputs = output)\n",
        "  return model\n",
        "\n",
        "model = EfficientNet()"
      ],
      "execution_count": 13,
      "outputs": []
    },
    {
      "cell_type": "code",
      "metadata": {
        "id": "aLT9jtLg_n9v"
      },
      "source": [
        "## Method: freeze/unfreeze layers\n",
        "\n",
        "# def unfreeze_model(model):\n",
        "#     # We unfreeze the top 20 layers while leaving BatchNorm layers frozen\n",
        "#     for layer in model.layers[-20:]:\n",
        "#         if not isinstance(layer, layers.BatchNormalization):\n",
        "#             layer.trainable = True\n",
        "\n",
        "# unfreeze_model(model)\n",
        "\n",
        "# # model.build(input_shape=(BATCH_SIZE,224,224,3))\n",
        "# # model.summary()"
      ],
      "execution_count": 14,
      "outputs": []
    },
    {
      "cell_type": "code",
      "metadata": {
        "colab": {
          "base_uri": "https://localhost:8080/"
        },
        "id": "PaUUajvIQWZl",
        "outputId": "67f5bfba-b051-4cc5-ab9e-0d51b6c9d764"
      },
      "source": [
        "model.summary()"
      ],
      "execution_count": 15,
      "outputs": [
        {
          "output_type": "stream",
          "text": [
            "Model: \"model\"\n",
            "_________________________________________________________________\n",
            "Layer (type)                 Output Shape              Param #   \n",
            "=================================================================\n",
            "input_1 (InputLayer)         [(None, 360, 360, 3)]     0         \n",
            "_________________________________________________________________\n",
            "sequential (Sequential)      (None, 360, 360, 3)       0         \n",
            "_________________________________________________________________\n",
            "efficientnetb0 (Functional)  (None, 12, 12, 1280)      4049571   \n",
            "_________________________________________________________________\n",
            "global_average_pooling2d (Gl (None, 1280)              0         \n",
            "_________________________________________________________________\n",
            "dropout (Dropout)            (None, 1280)              0         \n",
            "_________________________________________________________________\n",
            "dense (Dense)                (None, 512)               655872    \n",
            "_________________________________________________________________\n",
            "batch_normalization (BatchNo (None, 512)               2048      \n",
            "_________________________________________________________________\n",
            "dense_1 (Dense)              (None, 5)                 2565      \n",
            "=================================================================\n",
            "Total params: 4,710,056\n",
            "Trainable params: 4,667,009\n",
            "Non-trainable params: 43,047\n",
            "_________________________________________________________________\n"
          ],
          "name": "stdout"
        }
      ]
    },
    {
      "cell_type": "code",
      "metadata": {
        "colab": {
          "base_uri": "https://localhost:8080/",
          "height": 758
        },
        "id": "4KkOP4uee1Ek",
        "outputId": "adbfae64-8f11-4514-a1a4-72b50a2258f9"
      },
      "source": [
        "utils.plot_model(model)"
      ],
      "execution_count": 16,
      "outputs": [
        {
          "output_type": "execute_result",
          "data": {
            "image/png": "[encoded data removed]",
            "text/plain": [
              "<IPython.core.display.Image object>"
            ]
          },
          "metadata": {
            "tags": []
          },
          "execution_count": 16
        }
      ]
    },
    {
      "cell_type": "markdown",
      "metadata": {
        "id": "wXqL_iSC5sX9"
      },
      "source": [
        "***Create Callbacks***"
      ]
    },
    {
      "cell_type": "code",
      "metadata": {
        "id": "8mvsHqwr5ggH"
      },
      "source": [
        "                \n",
        "#save_path = '/content/drive/Shareddrives/2040_Midterm_Project/Classy_Classifiers/model_checkpoints/efficientnet_models/'                   \n",
        "save_path = '/content/drive/My Drive/Colab_Runs/'\n",
        "save_name = \"Mar20-checkpoint-{epoch:02d}-{val_loss:.2f}.hdf5\"     \n",
        "\n",
        "checkpoint = ModelCheckpoint(save_path+save_name,\n",
        "                             monitor = \"val_loss\",\n",
        "                             mode = \"min\",\n",
        "                             save_best_only = True,\n",
        "                             verbose = 1,\n",
        "                             save_weights_only = False)\n",
        "\n",
        "earlystop = EarlyStopping(monitor = 'val_loss', \n",
        "                          min_delta = 0.001, \n",
        "                          patience = 15,\n",
        "                          verbose = 1,\n",
        "                          restore_best_weights = True)\n",
        "\n",
        "reduce_lr = ReduceLROnPlateau(monitor = 'val_loss',\n",
        "                              factor = 0.8,\n",
        "                              patience = 2,\n",
        "                              verbose = 1,\n",
        "                              min_delta = 0.0001,\n",
        "                              min_lr = 0.00000001)\n",
        "\n",
        "\n",
        "callbacks = [earlystop,reduce_lr,checkpoint,WandbCallback()]\n"
      ],
      "execution_count": 17,
      "outputs": []
    },
    {
      "cell_type": "markdown",
      "metadata": {
        "id": "1FVMU9s3FGl4"
      },
      "source": [
        "***Compile the Model***"
      ]
    },
    {
      "cell_type": "code",
      "metadata": {
        "id": "Waks5Dehvj9P",
        "colab": {
          "base_uri": "https://localhost:8080/"
        },
        "outputId": "c47ef697-8600-46bb-c134-5a4ad47b56ba"
      },
      "source": [
        "model.compile(loss = 'categorical_crossentropy',\n",
        "              optimizer = Adam(learning_rate=LR),\n",
        "              metrics = ['accuracy'])\n",
        "\n",
        "model.build(input_shape=(BATCH_SIZE,IMAGE_SIZE[0],IMAGE_SIZE[1],3))\n",
        "model.summary()"
      ],
      "execution_count": 18,
      "outputs": [
        {
          "output_type": "stream",
          "text": [
            "Model: \"model\"\n",
            "_________________________________________________________________\n",
            "Layer (type)                 Output Shape              Param #   \n",
            "=================================================================\n",
            "input_1 (InputLayer)         [(None, 360, 360, 3)]     0         \n",
            "_________________________________________________________________\n",
            "sequential (Sequential)      (None, 360, 360, 3)       0         \n",
            "_________________________________________________________________\n",
            "efficientnetb0 (Functional)  (None, 12, 12, 1280)      4049571   \n",
            "_________________________________________________________________\n",
            "global_average_pooling2d (Gl (None, 1280)              0         \n",
            "_________________________________________________________________\n",
            "dropout (Dropout)            (None, 1280)              0         \n",
            "_________________________________________________________________\n",
            "dense (Dense)                (None, 512)               655872    \n",
            "_________________________________________________________________\n",
            "batch_normalization (BatchNo (None, 512)               2048      \n",
            "_________________________________________________________________\n",
            "dense_1 (Dense)              (None, 5)                 2565      \n",
            "=================================================================\n",
            "Total params: 4,710,056\n",
            "Trainable params: 4,667,009\n",
            "Non-trainable params: 43,047\n",
            "_________________________________________________________________\n"
          ],
          "name": "stdout"
        }
      ]
    },
    {
      "cell_type": "code",
      "metadata": {
        "id": "su5Nx5D8ry3j"
      },
      "source": [
        "# set hyperparameters\n",
        "\n",
        "STEPS_PER_EPOCH = NUM_TRAINING_IMAGES // BATCH_SIZE"
      ],
      "execution_count": 19,
      "outputs": []
    },
    {
      "cell_type": "markdown",
      "metadata": {
        "id": "DDnT5d0oFI9Y"
      },
      "source": [
        "***Train the Model***"
      ]
    },
    {
      "cell_type": "code",
      "metadata": {
        "colab": {
          "base_uri": "https://localhost:8080/"
        },
        "id": "LJHQ3csb5hbW",
        "outputId": "7416b657-6ea8-4837-e511-c747e8ffd414"
      },
      "source": [
        "history = model.fit(\n",
        "    train_dataset,\n",
        "    #class_weight = class_weights,\n",
        "    epochs = EPOCHS,\n",
        "    validation_data = val_dataset,\n",
        "    callbacks = callbacks,\n",
        "    verbose = 1,\n",
        "    steps_per_epoch = STEPS_PER_EPOCH\n",
        "    )\n"
      ],
      "execution_count": 20,
      "outputs": [
        {
          "output_type": "stream",
          "text": [
            "Epoch 1/100\n",
            "   6/1002 [..............................] - ETA: 5:02 - loss: 9.5415 - accuracy: 0.1790WARNING:tensorflow:Callback method `on_train_batch_end` is slow compared to the batch time (batch time: 0.0848s vs `on_train_batch_end` time: 0.1827s). Check your callbacks.\n",
            "1002/1002 [==============================] - 348s 321ms/step - loss: 4.6169 - accuracy: 0.6192 - val_loss: 45.6153 - val_accuracy: 0.6127\n",
            "\n",
            "Epoch 00001: val_loss improved from inf to 45.61535, saving model to /content/drive/My Drive/Colab_Runs/Mar20-checkpoint-01-45.62.hdf5\n",
            "Epoch 2/100\n",
            "1002/1002 [==============================] - 312s 312ms/step - loss: 0.8766 - accuracy: 0.7679 - val_loss: 3.0553 - val_accuracy: 0.1291\n",
            "\n",
            "Epoch 00002: val_loss improved from 45.61535 to 3.05527, saving model to /content/drive/My Drive/Colab_Runs/Mar20-checkpoint-02-3.06.hdf5\n",
            "Epoch 3/100\n",
            "1002/1002 [==============================] - 313s 312ms/step - loss: 0.7774 - accuracy: 0.7876 - val_loss: 1.9542 - val_accuracy: 0.1855\n",
            "\n",
            "Epoch 00003: val_loss improved from 3.05527 to 1.95423, saving model to /content/drive/My Drive/Colab_Runs/Mar20-checkpoint-03-1.95.hdf5\n",
            "Epoch 4/100\n",
            "1002/1002 [==============================] - 315s 315ms/step - loss: 0.9037 - accuracy: 0.7518 - val_loss: 1.9062 - val_accuracy: 0.3204\n",
            "\n",
            "Epoch 00004: val_loss improved from 1.95423 to 1.90623, saving model to /content/drive/My Drive/Colab_Runs/Mar20-checkpoint-04-1.91.hdf5\n",
            "Epoch 5/100\n",
            "1002/1002 [==============================] - 315s 315ms/step - loss: 0.9587 - accuracy: 0.7500 - val_loss: 1.7435 - val_accuracy: 0.2984\n",
            "\n",
            "Epoch 00005: val_loss improved from 1.90623 to 1.74346, saving model to /content/drive/My Drive/Colab_Runs/Mar20-checkpoint-05-1.74.hdf5\n",
            "Epoch 6/100\n",
            "1002/1002 [==============================] - 315s 315ms/step - loss: 0.8158 - accuracy: 0.7739 - val_loss: 1.3289 - val_accuracy: 0.6130\n",
            "\n",
            "Epoch 00006: val_loss improved from 1.74346 to 1.32892, saving model to /content/drive/My Drive/Colab_Runs/Mar20-checkpoint-06-1.33.hdf5\n",
            "Epoch 7/100\n",
            "1002/1002 [==============================] - 315s 315ms/step - loss: 0.7704 - accuracy: 0.7883 - val_loss: 1.7378 - val_accuracy: 0.2412\n",
            "\n",
            "Epoch 00007: val_loss did not improve from 1.32892\n",
            "Epoch 8/100\n",
            "1002/1002 [==============================] - 315s 315ms/step - loss: 0.7336 - accuracy: 0.7947 - val_loss: 8.7851 - val_accuracy: 0.0547\n",
            "\n",
            "Epoch 00008: ReduceLROnPlateau reducing learning rate to 0.000800000037997961.\n",
            "\n",
            "Epoch 00008: val_loss did not improve from 1.32892\n",
            "Epoch 9/100\n",
            "1002/1002 [==============================] - 316s 315ms/step - loss: 0.6769 - accuracy: 0.8103 - val_loss: 2.2060 - val_accuracy: 0.1203\n",
            "\n",
            "Epoch 00009: val_loss did not improve from 1.32892\n",
            "Epoch 10/100\n",
            "1002/1002 [==============================] - 313s 313ms/step - loss: 0.6483 - accuracy: 0.8154 - val_loss: 1.8505 - val_accuracy: 0.1203\n",
            "\n",
            "Epoch 00010: ReduceLROnPlateau reducing learning rate to 0.0006400000303983689.\n",
            "\n",
            "Epoch 00010: val_loss did not improve from 1.32892\n",
            "Epoch 11/100\n",
            "1002/1002 [==============================] - 313s 312ms/step - loss: 0.6000 - accuracy: 0.8263 - val_loss: 3.2551 - val_accuracy: 0.1213\n",
            "\n",
            "Epoch 00011: val_loss did not improve from 1.32892\n",
            "Epoch 12/100\n",
            "1002/1002 [==============================] - 313s 312ms/step - loss: 0.5710 - accuracy: 0.8355 - val_loss: 3.0489 - val_accuracy: 0.1228\n",
            "\n",
            "Epoch 00012: ReduceLROnPlateau reducing learning rate to 0.0005120000336319208.\n",
            "\n",
            "Epoch 00012: val_loss did not improve from 1.32892\n",
            "Epoch 13/100\n",
            "1002/1002 [==============================] - 315s 315ms/step - loss: 0.5458 - accuracy: 0.8393 - val_loss: 1.6892 - val_accuracy: 0.3629\n",
            "\n",
            "Epoch 00013: val_loss did not improve from 1.32892\n",
            "Epoch 14/100\n",
            "1002/1002 [==============================] - 315s 315ms/step - loss: 0.5258 - accuracy: 0.8438 - val_loss: 2.7674 - val_accuracy: 0.1203\n",
            "\n",
            "Epoch 00014: ReduceLROnPlateau reducing learning rate to 0.00040960004553198815.\n",
            "\n",
            "Epoch 00014: val_loss did not improve from 1.32892\n",
            "Epoch 15/100\n",
            "1002/1002 [==============================] - 315s 314ms/step - loss: 0.5140 - accuracy: 0.8455 - val_loss: 2.7763 - val_accuracy: 0.1269\n",
            "\n",
            "Epoch 00015: val_loss did not improve from 1.32892\n",
            "Epoch 16/100\n",
            "1002/1002 [==============================] - 315s 314ms/step - loss: 0.4827 - accuracy: 0.8569 - val_loss: 3.1610 - val_accuracy: 0.1454\n",
            "\n",
            "Epoch 00016: ReduceLROnPlateau reducing learning rate to 0.00032768002711236477.\n",
            "\n",
            "Epoch 00016: val_loss did not improve from 1.32892\n",
            "Epoch 17/100\n",
            "1002/1002 [==============================] - 315s 315ms/step - loss: 0.4676 - accuracy: 0.8636 - val_loss: 3.5610 - val_accuracy: 0.1257\n",
            "\n",
            "Epoch 00017: val_loss did not improve from 1.32892\n",
            "Epoch 18/100\n",
            "1002/1002 [==============================] - 315s 314ms/step - loss: 0.4543 - accuracy: 0.8626 - val_loss: 3.3509 - val_accuracy: 0.1343\n",
            "\n",
            "Epoch 00018: ReduceLROnPlateau reducing learning rate to 0.0002621440216898918.\n",
            "\n",
            "Epoch 00018: val_loss did not improve from 1.32892\n",
            "Epoch 19/100\n",
            "1002/1002 [==============================] - 314s 314ms/step - loss: 0.4341 - accuracy: 0.8677 - val_loss: 2.3408 - val_accuracy: 0.2678\n",
            "\n",
            "Epoch 00019: val_loss did not improve from 1.32892\n",
            "Epoch 20/100\n",
            "1002/1002 [==============================] - 315s 315ms/step - loss: 0.4260 - accuracy: 0.8668 - val_loss: 3.5738 - val_accuracy: 0.1203\n",
            "\n",
            "Epoch 00020: ReduceLROnPlateau reducing learning rate to 0.00020971521735191345.\n",
            "\n",
            "Epoch 00020: val_loss did not improve from 1.32892\n",
            "Epoch 21/100\n",
            "1002/1002 [==============================] - 315s 314ms/step - loss: 0.4072 - accuracy: 0.8762 - val_loss: 0.8168 - val_accuracy: 0.7464\n",
            "\n",
            "Epoch 00021: val_loss improved from 1.32892 to 0.81680, saving model to /content/drive/My Drive/Colab_Runs/Mar20-checkpoint-21-0.82.hdf5\n",
            "Epoch 22/100\n",
            "1002/1002 [==============================] - 316s 315ms/step - loss: 0.3983 - accuracy: 0.8779 - val_loss: 3.7546 - val_accuracy: 0.1224\n",
            "\n",
            "Epoch 00022: val_loss did not improve from 0.81680\n",
            "Epoch 23/100\n",
            "1002/1002 [==============================] - 315s 314ms/step - loss: 0.3987 - accuracy: 0.8717 - val_loss: 3.6561 - val_accuracy: 0.1287\n",
            "\n",
            "Epoch 00023: ReduceLROnPlateau reducing learning rate to 0.00016777217388153076.\n",
            "\n",
            "Epoch 00023: val_loss did not improve from 0.81680\n",
            "Epoch 24/100\n",
            "1002/1002 [==============================] - 316s 315ms/step - loss: 0.3837 - accuracy: 0.8829 - val_loss: 2.0922 - val_accuracy: 0.3260\n",
            "\n",
            "Epoch 00024: val_loss did not improve from 0.81680\n",
            "Epoch 25/100\n",
            "1002/1002 [==============================] - 316s 315ms/step - loss: 0.3806 - accuracy: 0.8824 - val_loss: 4.8269 - val_accuracy: 0.1205\n",
            "\n",
            "Epoch 00025: ReduceLROnPlateau reducing learning rate to 0.00013421773910522462.\n",
            "\n",
            "Epoch 00025: val_loss did not improve from 0.81680\n",
            "Epoch 26/100\n",
            "1002/1002 [==============================] - 316s 315ms/step - loss: 0.3790 - accuracy: 0.8802 - val_loss: 0.8748 - val_accuracy: 0.7134\n",
            "\n",
            "Epoch 00026: val_loss did not improve from 0.81680\n",
            "Epoch 27/100\n",
            "1002/1002 [==============================] - 316s 315ms/step - loss: 0.3790 - accuracy: 0.8788 - val_loss: 0.6928 - val_accuracy: 0.7558\n",
            "\n",
            "Epoch 00027: val_loss improved from 0.81680 to 0.69282, saving model to /content/drive/My Drive/Colab_Runs/Mar20-checkpoint-27-0.69.hdf5\n",
            "Epoch 28/100\n",
            "1002/1002 [==============================] - 316s 315ms/step - loss: 0.3557 - accuracy: 0.8857 - val_loss: 0.8305 - val_accuracy: 0.7233\n",
            "\n",
            "Epoch 00028: val_loss did not improve from 0.69282\n",
            "Epoch 29/100\n",
            "1002/1002 [==============================] - 316s 315ms/step - loss: 0.3572 - accuracy: 0.8882 - val_loss: 24.0321 - val_accuracy: 0.1194\n",
            "\n",
            "Epoch 00029: ReduceLROnPlateau reducing learning rate to 0.00010737419361248613.\n",
            "\n",
            "Epoch 00029: val_loss did not improve from 0.69282\n",
            "Epoch 30/100\n",
            "1002/1002 [==============================] - 316s 315ms/step - loss: 0.3508 - accuracy: 0.8870 - val_loss: 1.9426 - val_accuracy: 0.4748\n",
            "\n",
            "Epoch 00030: val_loss did not improve from 0.69282\n",
            "Epoch 31/100\n",
            "1002/1002 [==============================] - 316s 315ms/step - loss: 0.3477 - accuracy: 0.8898 - val_loss: 4.3760 - val_accuracy: 0.1334\n",
            "\n",
            "Epoch 00031: ReduceLROnPlateau reducing learning rate to 8.589935605414213e-05.\n",
            "\n",
            "Epoch 00031: val_loss did not improve from 0.69282\n",
            "Epoch 32/100\n",
            "1002/1002 [==============================] - 316s 315ms/step - loss: 0.3351 - accuracy: 0.8943 - val_loss: 1.9262 - val_accuracy: 0.4851\n",
            "\n",
            "Epoch 00032: val_loss did not improve from 0.69282\n",
            "Epoch 33/100\n",
            "1002/1002 [==============================] - 317s 316ms/step - loss: 0.3376 - accuracy: 0.8949 - val_loss: 0.4371 - val_accuracy: 0.8666\n",
            "\n",
            "Epoch 00033: val_loss improved from 0.69282 to 0.43711, saving model to /content/drive/My Drive/Colab_Runs/Mar20-checkpoint-33-0.44.hdf5\n",
            "Epoch 34/100\n",
            "1002/1002 [==============================] - 316s 315ms/step - loss: 0.3401 - accuracy: 0.8906 - val_loss: 2.7987 - val_accuracy: 0.2536\n",
            "\n",
            "Epoch 00034: val_loss did not improve from 0.43711\n",
            "Epoch 35/100\n",
            "1002/1002 [==============================] - 316s 315ms/step - loss: 0.3396 - accuracy: 0.8925 - val_loss: 5.0507 - val_accuracy: 0.1211\n",
            "\n",
            "Epoch 00035: ReduceLROnPlateau reducing learning rate to 6.871948717162013e-05.\n",
            "\n",
            "Epoch 00035: val_loss did not improve from 0.43711\n",
            "Epoch 36/100\n",
            "1002/1002 [==============================] - 315s 315ms/step - loss: 0.3165 - accuracy: 0.8998 - val_loss: 0.9573 - val_accuracy: 0.7205\n",
            "\n",
            "Epoch 00036: val_loss did not improve from 0.43711\n",
            "Epoch 37/100\n",
            "1002/1002 [==============================] - 316s 315ms/step - loss: 0.3172 - accuracy: 0.8977 - val_loss: 1.1651 - val_accuracy: 0.6328\n",
            "\n",
            "Epoch 00037: ReduceLROnPlateau reducing learning rate to 5.497558740898967e-05.\n",
            "\n",
            "Epoch 00037: val_loss did not improve from 0.43711\n",
            "Epoch 38/100\n",
            "1002/1002 [==============================] - 313s 312ms/step - loss: 0.3229 - accuracy: 0.9012 - val_loss: 0.4768 - val_accuracy: 0.8460\n",
            "\n",
            "Epoch 00038: val_loss did not improve from 0.43711\n",
            "Epoch 39/100\n",
            "1002/1002 [==============================] - 315s 315ms/step - loss: 0.3139 - accuracy: 0.8973 - val_loss: 0.7574 - val_accuracy: 0.7390\n",
            "\n",
            "Epoch 00039: ReduceLROnPlateau reducing learning rate to 4.398046876303852e-05.\n",
            "\n",
            "Epoch 00039: val_loss did not improve from 0.43711\n",
            "Epoch 40/100\n",
            "1002/1002 [==============================] - 316s 315ms/step - loss: 0.3086 - accuracy: 0.8993 - val_loss: 0.9842 - val_accuracy: 0.7167\n",
            "\n",
            "Epoch 00040: val_loss did not improve from 0.43711\n",
            "Epoch 41/100\n",
            "1002/1002 [==============================] - 316s 315ms/step - loss: 0.3117 - accuracy: 0.8999 - val_loss: 0.6270 - val_accuracy: 0.7821\n",
            "\n",
            "Epoch 00041: ReduceLROnPlateau reducing learning rate to 3.518437442835421e-05.\n",
            "\n",
            "Epoch 00041: val_loss did not improve from 0.43711\n",
            "Epoch 42/100\n",
            "1002/1002 [==============================] - 312s 312ms/step - loss: 0.3064 - accuracy: 0.9027 - val_loss: 0.7826 - val_accuracy: 0.7769\n",
            "\n",
            "Epoch 00042: val_loss did not improve from 0.43711\n",
            "Epoch 43/100\n",
            "1002/1002 [==============================] - 313s 312ms/step - loss: 0.2956 - accuracy: 0.9063 - val_loss: 0.3925 - val_accuracy: 0.8688\n",
            "\n",
            "Epoch 00043: val_loss improved from 0.43711 to 0.39250, saving model to /content/drive/My Drive/Colab_Runs/Mar20-checkpoint-43-0.39.hdf5\n",
            "Epoch 44/100\n",
            "1002/1002 [==============================] - 314s 313ms/step - loss: 0.2958 - accuracy: 0.9026 - val_loss: 0.4164 - val_accuracy: 0.8645\n",
            "\n",
            "Epoch 00044: val_loss did not improve from 0.39250\n",
            "Epoch 45/100\n",
            "1002/1002 [==============================] - 316s 315ms/step - loss: 0.2914 - accuracy: 0.9073 - val_loss: 0.5384 - val_accuracy: 0.8300\n",
            "\n",
            "Epoch 00045: ReduceLROnPlateau reducing learning rate to 2.8147498960606756e-05.\n",
            "\n",
            "Epoch 00045: val_loss did not improve from 0.39250\n",
            "Epoch 46/100\n",
            "1002/1002 [==============================] - 312s 311ms/step - loss: 0.2869 - accuracy: 0.9071 - val_loss: 0.4085 - val_accuracy: 0.8711\n",
            "\n",
            "Epoch 00046: val_loss did not improve from 0.39250\n",
            "Epoch 47/100\n",
            "1002/1002 [==============================] - 316s 315ms/step - loss: 0.2915 - accuracy: 0.9073 - val_loss: 0.4198 - val_accuracy: 0.8666\n",
            "\n",
            "Epoch 00047: ReduceLROnPlateau reducing learning rate to 2.25179988774471e-05.\n",
            "\n",
            "Epoch 00047: val_loss did not improve from 0.39250\n",
            "Epoch 48/100\n",
            "1002/1002 [==============================] - 316s 315ms/step - loss: 0.2976 - accuracy: 0.9040 - val_loss: 0.4016 - val_accuracy: 0.8696\n",
            "\n",
            "Epoch 00048: val_loss did not improve from 0.39250\n",
            "Epoch 49/100\n",
            "1002/1002 [==============================] - 316s 315ms/step - loss: 0.2897 - accuracy: 0.9061 - val_loss: 0.3885 - val_accuracy: 0.8752\n",
            "\n",
            "Epoch 00049: val_loss improved from 0.39250 to 0.38847, saving model to /content/drive/My Drive/Colab_Runs/Mar20-checkpoint-49-0.39.hdf5\n",
            "Epoch 50/100\n",
            "1002/1002 [==============================] - 316s 315ms/step - loss: 0.2808 - accuracy: 0.9086 - val_loss: 0.4209 - val_accuracy: 0.8643\n",
            "\n",
            "Epoch 00050: val_loss did not improve from 0.38847\n",
            "Epoch 51/100\n",
            "1002/1002 [==============================] - 315s 315ms/step - loss: 0.2955 - accuracy: 0.9047 - val_loss: 0.3853 - val_accuracy: 0.8746\n",
            "\n",
            "Epoch 00051: val_loss improved from 0.38847 to 0.38529, saving model to /content/drive/My Drive/Colab_Runs/Mar20-checkpoint-51-0.39.hdf5\n",
            "Epoch 52/100\n",
            "1002/1002 [==============================] - 314s 314ms/step - loss: 0.2809 - accuracy: 0.9080 - val_loss: 0.3732 - val_accuracy: 0.8840\n",
            "\n",
            "Epoch 00052: val_loss improved from 0.38529 to 0.37322, saving model to /content/drive/My Drive/Colab_Runs/Mar20-checkpoint-52-0.37.hdf5\n",
            "Epoch 53/100\n",
            "1002/1002 [==============================] - 315s 314ms/step - loss: 0.2791 - accuracy: 0.9095 - val_loss: 0.3726 - val_accuracy: 0.8843\n",
            "\n",
            "Epoch 00053: val_loss improved from 0.37322 to 0.37257, saving model to /content/drive/My Drive/Colab_Runs/Mar20-checkpoint-53-0.37.hdf5\n",
            "Epoch 54/100\n",
            "1002/1002 [==============================] - 315s 314ms/step - loss: 0.2786 - accuracy: 0.9080 - val_loss: 0.4061 - val_accuracy: 0.8666\n",
            "\n",
            "Epoch 00054: val_loss did not improve from 0.37257\n",
            "Epoch 55/100\n",
            "1002/1002 [==============================] - 315s 314ms/step - loss: 0.2788 - accuracy: 0.9092 - val_loss: 0.3804 - val_accuracy: 0.8782\n",
            "\n",
            "Epoch 00055: ReduceLROnPlateau reducing learning rate to 1.8014399392995985e-05.\n",
            "\n",
            "Epoch 00055: val_loss did not improve from 0.37257\n",
            "Epoch 56/100\n",
            "1002/1002 [==============================] - 315s 314ms/step - loss: 0.2760 - accuracy: 0.9077 - val_loss: 0.3922 - val_accuracy: 0.8722\n",
            "\n",
            "Epoch 00056: val_loss did not improve from 0.37257\n",
            "Epoch 57/100\n",
            "1002/1002 [==============================] - 316s 315ms/step - loss: 0.2720 - accuracy: 0.9121 - val_loss: 0.4038 - val_accuracy: 0.8711\n",
            "\n",
            "Epoch 00057: ReduceLROnPlateau reducing learning rate to 1.4411519805435093e-05.\n",
            "\n",
            "Epoch 00057: val_loss did not improve from 0.37257\n",
            "Epoch 58/100\n",
            "1002/1002 [==============================] - 317s 316ms/step - loss: 0.2767 - accuracy: 0.9091 - val_loss: 0.3724 - val_accuracy: 0.8812\n",
            "\n",
            "Epoch 00058: val_loss improved from 0.37257 to 0.37243, saving model to /content/drive/My Drive/Colab_Runs/Mar20-checkpoint-58-0.37.hdf5\n",
            "Epoch 59/100\n",
            "1002/1002 [==============================] - 315s 315ms/step - loss: 0.2913 - accuracy: 0.9063 - val_loss: 0.3829 - val_accuracy: 0.8776\n",
            "\n",
            "Epoch 00059: val_loss did not improve from 0.37243\n",
            "Epoch 60/100\n",
            "1002/1002 [==============================] - 316s 315ms/step - loss: 0.2713 - accuracy: 0.9139 - val_loss: 0.3825 - val_accuracy: 0.8767\n",
            "\n",
            "Epoch 00060: ReduceLROnPlateau reducing learning rate to 1.1529216135386379e-05.\n",
            "\n",
            "Epoch 00060: val_loss did not improve from 0.37243\n",
            "Epoch 61/100\n",
            "1002/1002 [==============================] - 316s 316ms/step - loss: 0.2735 - accuracy: 0.9116 - val_loss: 0.3798 - val_accuracy: 0.8786\n",
            "\n",
            "Epoch 00061: val_loss did not improve from 0.37243\n",
            "Epoch 62/100\n",
            "1002/1002 [==============================] - 315s 315ms/step - loss: 0.2728 - accuracy: 0.9099 - val_loss: 0.3798 - val_accuracy: 0.8802\n",
            "\n",
            "Epoch 00062: ReduceLROnPlateau reducing learning rate to 9.223372762789951e-06.\n",
            "\n",
            "Epoch 00062: val_loss did not improve from 0.37243\n",
            "Epoch 63/100\n",
            "1002/1002 [==============================] - 316s 316ms/step - loss: 0.2761 - accuracy: 0.9109 - val_loss: 0.3836 - val_accuracy: 0.8774\n",
            "\n",
            "Epoch 00063: val_loss did not improve from 0.37243\n",
            "Epoch 64/100\n",
            "1002/1002 [==============================] - 316s 315ms/step - loss: 0.2685 - accuracy: 0.9132 - val_loss: 0.3805 - val_accuracy: 0.8791\n",
            "\n",
            "Epoch 00064: ReduceLROnPlateau reducing learning rate to 7.378698501270265e-06.\n",
            "\n",
            "Epoch 00064: val_loss did not improve from 0.37243\n",
            "Epoch 65/100\n",
            "1002/1002 [==============================] - 318s 317ms/step - loss: 0.2759 - accuracy: 0.9114 - val_loss: 0.3830 - val_accuracy: 0.8789\n",
            "\n",
            "Epoch 00065: val_loss did not improve from 0.37243\n",
            "Epoch 66/100\n",
            "1002/1002 [==============================] - 317s 316ms/step - loss: 0.2722 - accuracy: 0.9098 - val_loss: 0.3766 - val_accuracy: 0.8821\n",
            "\n",
            "Epoch 00066: ReduceLROnPlateau reducing learning rate to 5.902958946535364e-06.\n",
            "\n",
            "Epoch 00066: val_loss did not improve from 0.37243\n",
            "Epoch 67/100\n",
            "1002/1002 [==============================] - 317s 317ms/step - loss: 0.2589 - accuracy: 0.9156 - val_loss: 0.3810 - val_accuracy: 0.8782\n",
            "Restoring model weights from the end of the best epoch.\n",
            "\n",
            "Epoch 00067: val_loss did not improve from 0.37243\n",
            "Epoch 00067: early stopping\n"
          ],
          "name": "stdout"
        }
      ]
    },
    {
      "cell_type": "markdown",
      "metadata": {
        "id": "ChBUN9eGsm6J"
      },
      "source": [
        "Training output used in presentation:\n",
        "\n",
        "https://wandb.ai/jgreen/EfficientNet/reports/Cassava-Leaf-Disease-Classification--Vmlldzo1NDgyODA/edit"
      ]
    },
    {
      "cell_type": "code",
      "metadata": {
        "id": "gl-kmC65wmBo",
        "colab": {
          "base_uri": "https://localhost:8080/",
          "height": 573
        },
        "outputId": "317112aa-adc6-440e-92cd-33a285bf4cc4"
      },
      "source": [
        "# plot loss curves\n",
        "\n",
        "plt.plot(history.history['accuracy'])\n",
        "plt.plot(history.history['val_accuracy'])\n",
        "plt.title('model accuracy')\n",
        "plt.ylabel('accuracy')\n",
        "plt.xlabel('epoch')\n",
        "plt.legend(['train', 'val'], loc='upper left')\n",
        "plt.show()\n",
        "\n",
        "plt.plot(history.history['loss'])\n",
        "plt.plot(history.history['val_loss'])\n",
        "plt.title('model loss')\n",
        "plt.ylabel('loss')\n",
        "plt.xlabel('epoch')\n",
        "plt.legend(['train', 'val'], loc='upper left')\n",
        "plt.show()"
      ],
      "execution_count": 21,
      "outputs": [
        {
          "output_type": "display_data",
          "data": {
            "image/png": "[encoded data removed]",
            "text/plain": [
              "<Figure size 432x288 with 1 Axes>"
            ]
          },
          "metadata": {
            "tags": [],
            "needs_background": "light"
          }
        },
        {
          "output_type": "display_data",
          "data": {
            "image/png": "[encoded data removed]",
            "text/plain": [
              "<Figure size 432x288 with 1 Axes>"
            ]
          },
          "metadata": {
            "tags": [],
            "needs_background": "light"
          }
        }
      ]
    },
    {
      "cell_type": "code",
      "metadata": {
        "id": "-rf8h0TxwmEn"
      },
      "source": [
        "#wandb.config"
      ],
      "execution_count": 22,
      "outputs": []
    },
    {
      "cell_type": "code",
      "metadata": {
        "id": "XQoWW8NzwmHq",
        "colab": {
          "base_uri": "https://localhost:8080/",
          "height": 664,
          "referenced_widgets": [
            "20d942989e8c411c9e8dd217d5ac1e41",
            "379b3607f52b417fa23bd56004aec7ac",
            "dc865f6a89134cb496df7defab63ab81",
            "d03c1eec93e344cf9bb736339fde437c",
            "d03682ec1af94e8fbd3becbd40399237",
            "95c81caf660b441dbc85d26685da3d33",
            "4b1257648a6e480cbcdd49e104ab8336",
            "5cc765ea0f1c40d0a0e6e7e89c77bf8a"
          ]
        },
        "outputId": "159747fb-9d69-43d1-c180-01f75df88c27"
      },
      "source": [
        "wandb.finish()"
      ],
      "execution_count": 23,
      "outputs": [
        {
          "output_type": "display_data",
          "data": {
            "text/html": [
              "<br/>Waiting for W&B process to finish, PID 1590<br/>Program ended successfully."
            ],
            "text/plain": [
              "<IPython.core.display.HTML object>"
            ]
          },
          "metadata": {
            "tags": []
          }
        },
        {
          "output_type": "display_data",
          "data": {
            "application/vnd.jupyter.widget-view+json": {
              "model_id": "20d942989e8c411c9e8dd217d5ac1e41",
              "version_minor": 0,
              "version_major": 2
            },
            "text/plain": [
              "VBox(children=(Label(value=' 54.44MB of 54.44MB uploaded (0.00MB deduped)\\r'), FloatProgress(value=1.0, max=1.…"
            ]
          },
          "metadata": {
            "tags": []
          }
        },
        {
          "output_type": "display_data",
          "data": {
            "text/html": [
              "Find user logs for this run at: <code>/content/wandb/run-20210321_184620-md40icyu/logs/debug.log</code>"
            ],
            "text/plain": [
              "<IPython.core.display.HTML object>"
            ]
          },
          "metadata": {
            "tags": []
          }
        },
        {
          "output_type": "display_data",
          "data": {
            "text/html": [
              "Find internal logs for this run at: <code>/content/wandb/run-20210321_184620-md40icyu/logs/debug-internal.log</code>"
            ],
            "text/plain": [
              "<IPython.core.display.HTML object>"
            ]
          },
          "metadata": {
            "tags": []
          }
        },
        {
          "output_type": "display_data",
          "data": {
            "text/html": [
              "<h3>Run summary:</h3><br/><style>\n",
              "    table.wandb td:nth-child(1) { padding: 0 10px; text-align: right }\n",
              "    </style><table class=\"wandb\">\n",
              "<tr><td>epoch</td><td>66</td></tr><tr><td>loss</td><td>0.26327</td></tr><tr><td>accuracy</td><td>0.91374</td></tr><tr><td>val_loss</td><td>0.38098</td></tr><tr><td>val_accuracy</td><td>0.87818</td></tr><tr><td>lr</td><td>1e-05</td></tr><tr><td>_runtime</td><td>21178</td></tr><tr><td>_timestamp</td><td>1616373558</td></tr><tr><td>_step</td><td>66</td></tr><tr><td>best_val_loss</td><td>0.37243</td></tr><tr><td>best_epoch</td><td>57</td></tr></table>"
            ],
            "text/plain": [
              "<IPython.core.display.HTML object>"
            ]
          },
          "metadata": {
            "tags": []
          }
        },
        {
          "output_type": "display_data",
          "data": {
            "text/html": [
              "<h3>Run history:</h3><br/><style>\n",
              "    table.wandb td:nth-child(1) { padding: 0 10px; text-align: right }\n",
              "    </style><table class=\"wandb\">\n",
              "<tr><td>epoch</td><td>▁▁▁▂▂▂▂▂▂▃▃▃▃▃▃▄▄▄▄▄▅▅▅▅▅▅▆▆▆▆▆▇▇▇▇▇▇███</td></tr><tr><td>loss</td><td>█▃▃▃▃▂▂▂▂▂▂▂▁▁▁▁▁▁▁▁▁▁▁▁▁▁▁▁▁▁▁▁▁▁▁▁▁▁▁▁</td></tr><tr><td>accuracy</td><td>▁▃▃▄▄▅▅▅▆▆▆▆▇▇▇▇▇▇▇▇▇███████████████████</td></tr><tr><td>val_loss</td><td>█▁▁▁▁▁▁▁▁▁▁▁▁▂▁▁▁▅▂▁▁▁▁▁▁▁▁▁▁▁▁▁▁▁▁▁▁▁▁▁</td></tr><tr><td>val_accuracy</td><td>▆▁▃▆▂▁▁▁▁▁▁▂▇▁▃▆▇▁▁█▂▇█▇▇███████████████</td></tr><tr><td>lr</td><td>█████▇▅▅▅▄▃▃▂▂▂▂▂▂▂▂▂▁▁▁▁▁▁▁▁▁▁▁▁▁▁▁▁▁▁▁</td></tr><tr><td>_runtime</td><td>▁▁▁▂▂▂▂▂▂▃▃▃▃▃▃▄▄▄▄▄▄▅▅▅▅▅▆▆▆▆▆▇▇▇▇▇▇███</td></tr><tr><td>_timestamp</td><td>▁▁▁▂▂▂▂▂▂▃▃▃▃▃▃▄▄▄▄▄▄▅▅▅▅▅▆▆▆▆▆▇▇▇▇▇▇███</td></tr><tr><td>_step</td><td>▁▁▁▂▂▂▂▂▂▃▃▃▃▃▃▄▄▄▄▄▅▅▅▅▅▅▆▆▆▆▆▇▇▇▇▇▇███</td></tr></table><br/>"
            ],
            "text/plain": [
              "<IPython.core.display.HTML object>"
            ]
          },
          "metadata": {
            "tags": []
          }
        },
        {
          "output_type": "display_data",
          "data": {
            "text/html": [
              "Synced 5 W&B file(s), 1 media file(s), 0 artifact file(s) and 1 other file(s)"
            ],
            "text/plain": [
              "<IPython.core.display.HTML object>"
            ]
          },
          "metadata": {
            "tags": []
          }
        },
        {
          "output_type": "display_data",
          "data": {
            "text/html": [
              "\n",
              "                    <br/>Synced <strong style=\"color:#cdcd00\">fallen-pond-35</strong>: <a href=\"https://wandb.ai/jgreen/EfficientNet/runs/md40icyu\" target=\"_blank\">https://wandb.ai/jgreen/EfficientNet/runs/md40icyu</a><br/>\n",
              "                "
            ],
            "text/plain": [
              "<IPython.core.display.HTML object>"
            ]
          },
          "metadata": {
            "tags": []
          }
        }
      ]
    },
    {
      "cell_type": "markdown",
      "metadata": {
        "id": "0Bno_zmhqcqT"
      },
      "source": [
        "Helpful Notebooks:\n",
        "\n",
        "splitting:\n",
        "\n",
        "https://stackoverflow.com/questions/60704335/how-to-create-train-test-validation-split-of-tf-data-dataset-in-tf-2-1-0\n",
        "\n",
        "shuffling, batchingm caching, prefetching:\n",
        "\n",
        "https://www.kaggle.com/tt195361/splitting-tensorflow-dataset-for-validation\n",
        "\n",
        "splitting, data collection:\n",
        "\n",
        "https://www.kaggle.com/jsmithperera/cassava-inference\n",
        "\n",
        "Example of EfficientNet\n",
        "\n",
        "https://www.kaggle.com/frlemarchand/efficientnet-aug-tf-keras-for-cassava-diseases\n"
      ]
    },
    {
      "cell_type": "markdown",
      "metadata": {
        "id": "j6zRZvSrvGs9"
      },
      "source": [
        "***Extra Code Blocks:***\n"
      ]
    },
    {
      "cell_type": "code",
      "metadata": {
        "id": "40Prt3NrvIBs"
      },
      "source": [
        "## Code investigating disproportionate weight classes\n",
        "\n",
        "# import numpy as np\n",
        "# import gc\n",
        "\n",
        "# # create the iterator\n",
        "# train_iter = iter(train_dataset)\n",
        "# # # train_iter is taking all of the samples - trying to take just 100 samples\n",
        "# # train_iter = iter(dataset_original.take(100))\n",
        "\n",
        "# # define he accumulator\n",
        "# class_occurrences = np.array([0,0,0,0,0])\n",
        "\n",
        "# next_batch = train_iter.get_next_as_optional()\n",
        "# while next_batch.has_value():\n",
        "# # for _ in range(100):\n",
        "#     # print(class_occurrences)\n",
        "#     batch_labels = next_batch.get_value()[1]\n",
        "#     batch_count = np.array(batch_labels).sum(axis=0)\n",
        "#     class_occurrences = np.add(class_occurrences, batch_count)\n",
        "#     # gc.collect()\n",
        "#     next_batch = train_iter.get_next_as_optional()\n",
        "\n",
        "# # use the class_occurrences to store the counts for each class:\n",
        "# num_train = sum(class_occurrences)\n",
        "# c0_cts = class_occurrences[0]\n",
        "# c1_cts = class_occurrences[1]\n",
        "# c2_cts = class_occurrences[2]\n",
        "# c3_cts = class_occurrences[3]\n",
        "# c4_cts = class_occurrences[4]\n",
        "\n",
        "\n",
        "# # and use these to store the weights for the fit method:\n",
        "# c0_weight = num_train/c0_cts\n",
        "# c1_weight = num_train/c1_cts\n",
        "# c2_weight = num_train/c2_cts\n",
        "# c3_weight = num_train/c3_cts\n",
        "# c4_weight = num_train/c4_cts\n",
        "\n",
        "# class_weights = {0: c0_weight,\n",
        "#                  1: c1_weight,\n",
        "#                  2: c2_weight,\n",
        "#                  3: c3_weight,\n",
        "#                  4: c4_weight}"
      ],
      "execution_count": 24,
      "outputs": []
    },
    {
      "cell_type": "code",
      "metadata": {
        "id": "C8LBfESktmbk"
      },
      "source": [
        "## incorportating 2 learning rates\n",
        "\n",
        "# from tensorflow.keras.optimizers import Adam\n",
        "# from wandb.keras import WandbCallback\n",
        "# from tensorflow.keras.callbacks import ModelCheckpoint, EarlyStopping, ReduceLROnPlateau, LearningRateScheduler\n",
        "# # !pip install -q tensorflow_addons\n",
        "# from tensorflow_addons.optimizers import MultiOptimizer\n",
        "\n",
        "\n",
        "# # Learning Rate\n",
        "# BASE_LR_INIT = 0.00001\n",
        "# HEAD_LR_INIT = 0.001\n",
        "# RAMPUP = 10\n",
        "# EXP_DECAY = 0.1\n",
        "\n",
        "# # Early Stopping\n",
        "# MIN_DELTA_ES = 0.001\n",
        "# PATIENCE_ES = 15\n",
        "\n",
        "# # Reduce LR on Plateau\n",
        "# FACTOR_RLR = 0.8\n",
        "# PATIENCE_RLR = 3\n",
        "# MIN_DELTA_RLR = 0.0001\n",
        "# MIN_LR = 0.0000001\n",
        "\n",
        "# RECORD_PATH = tf.io.gfile.glob(\"train_tfrecords/*.tfrec\")\n",
        "# # SAVE_PATH = '/content/drive/Shareddrives/2040_Midterm_Project/Classy_Classifiers/model_checkpoints/inception_models/'\n",
        "# SAVE_PATH = '/content/drive/My Drive/Colab_Runs/'\n",
        "# # SAVE_NAME = \"March20-Resnet-checkpoint-{epoch:02d}-{val_loss:.2f}.hdf5\" \n",
        "# NAME_BASE = \"March20-EfficientNet-checkpoint-\"\n",
        "\n",
        "\n",
        "# # checkpoint = ModelCheckpoint(SAVE_PATH+SAVE_NAME,\n",
        "# #                              monitor = \"val_loss\",\n",
        "# #                              mode = \"min\",\n",
        "# #                              save_best_only = True,\n",
        "# #                              save_weights_only = False,\n",
        "# #                              verbose = 1)\n",
        "\n",
        "# # CUSTOM CALLBACK TO SAVE CHECKPOINT WITHOUT OPTIMIZER\n",
        "\n",
        "# class CheckpointNoOpt(keras.callbacks.Callback):\n",
        "#     def on_epoch_end(self, epoch, logs=None):\n",
        "#         model.save(filepath=SAVE_PATH+NAME_BASE+f\"-{epoch}-.hdf5\",\n",
        "#                    overwrite=False,\n",
        "#                    include_optimizer=False)\n",
        "#         # print(\"End epoch {} of training; got log keys: {}\".format(epoch, keys))\n",
        "# checkpoint = CheckpointNoOpt()\n",
        "\n",
        "# earlystop = EarlyStopping(monitor = 'val_loss', \n",
        "#                           min_delta = MIN_DELTA_ES, \n",
        "#                           patience = PATIENCE_ES,\n",
        "#                           verbose = 1,\n",
        "#                           restore_best_weights = True)\n",
        "\n",
        "# # reduce_lr = ReduceLROnPlateau(monitor = 'val_loss',\n",
        "# #                               factor = FACTOR_RLR,\n",
        "# #                               patience = PATIENCE_RLR,\n",
        "# #                               verbose = 1,\n",
        "# #                               min_delta = MIN_DELTA_RLR,\n",
        "# #                               min_lr = MIN_LR)\n",
        "\n",
        "# def lr(epoch, start_lr, rampup_epochs, exp_decay):\n",
        "#     if epoch < rampup_epochs:\n",
        "#         return start_lr\n",
        "#     else:\n",
        "#         return start_lr * math.exp(-exp_decay * epoch)\n",
        "\n",
        "# def schedule_base(epoch):\n",
        "#     return lr(epoch, BASE_LR_INIT, RAMPUP, EXP_DECAY)\n",
        "\n",
        "# def schedule_head(epoch): \n",
        "#     return lr(epoch, HEAD_LR_INIT, RAMPUP, EXP_DECAY)\n",
        "\n",
        "# # scheduler_base = LearningRateScheduler(schedule_base, verbose=0)\n",
        "# # scheduler_head = LearningRateScheduler(schedule_head, verbose=0) \n",
        "\n",
        "# learning_rate_base = tf.keras.optimizers.schedules.ExponentialDecay(\n",
        "#     initial_learning_rate=BASE_LR_INIT, decay_steps=20, decay_rate=.1)\n",
        "# learning_rate_head = tf.keras.optimizers.schedules.ExponentialDecay(\n",
        "#     initial_learning_rate=HEAD_LR_INIT, decay_steps=20, decay_rate=.1)\n",
        "\n",
        "# var_list_base = model.layers[0]\n",
        "# var_list_head = model.layers[1:]\n",
        "# opt_base = Adam(learning_rate=learning_rate_base)\n",
        "# opt_head = Adam(learning_rate=learning_rate_head)\n",
        "\n",
        "# optimizers_and_layers = [(opt_base, var_list_base),(opt_head, var_list_head)]\n",
        "# opt = MultiOptimizer(optimizers_and_layers)\n",
        "\n",
        "\n",
        "# # train_opt_base = opt_base.apply_gradients(zip(grads_base, var_list_base))\n",
        "# # train_opt_head = opt_head.apply_gradients(zip(grads_head, var_list_head))\n",
        "# # train_opt = tf.group(train_opt_base, train_opt_head)\n",
        "\n",
        "# callbacks = [checkpoint,earlystop, wandb.keras.WandbCallback()]\n",
        "\n",
        "# model.compile(loss = 'categorical_crossentropy',\n",
        "#               optimizer = opt,\n",
        "#               # optimizer = Adam(learning_rate=LR),\n",
        "#               metrics = ['accuracy'])\n",
        "\n",
        "# model.build(input_shape=(BATCH_SIZE,IMAGE_SIZE[0],IMAGE_SIZE[1],3))\n",
        "# model.summary()\n",
        "\n"
      ],
      "execution_count": 35,
      "outputs": []
    }
  ]
}