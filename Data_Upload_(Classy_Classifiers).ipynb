{
  "nbformat": 4,
  "nbformat_minor": 0,
  "metadata": {
    "colab": {
      "name": "Data_Upload (Classy Classifiers)",
      "provenance": [],
      "collapsed_sections": [],
      "include_colab_link": true
    },
    "kernelspec": {
      "display_name": "Python 3",
      "name": "python3"
    }
  },
  "cells": [
    {
      "cell_type": "markdown",
      "metadata": {
        "id": "view-in-github",
        "colab_type": "text"
      },
      "source": [
        "<a href=\"https://colab.research.google.com/github/classy-classifiers/cassava-classification/blob/main/Data_Upload_(Classy_Classifiers).ipynb\" target=\"_parent\"><img src=\"https://colab.research.google.com/assets/colab-badge.svg\" alt=\"Open In Colab\"/></a>"
      ]
    },
    {
      "cell_type": "markdown",
      "metadata": {
        "id": "YjV3_WH6MN3o"
      },
      "source": [
        "**Import Kaggle Data**"
      ]
    },
    {
      "cell_type": "code",
      "metadata": {
        "colab": {
          "base_uri": "https://localhost:8080/"
        },
        "id": "App9wjEPNrLa",
        "outputId": "9a22f25a-40ea-455e-b780-9ee6fa29d82d"
      },
      "source": [
        "from google.colab import drive\n",
        "drive.mount('/content/drive/')"
      ],
      "execution_count": null,
      "outputs": [
        {
          "output_type": "stream",
          "text": [
            "Mounted at /content/drive/\n"
          ],
          "name": "stdout"
        }
      ]
    },
    {
      "cell_type": "code",
      "metadata": {
        "id": "YJW3BetEHt0Y",
        "colab": {
          "base_uri": "https://localhost:8080/"
        },
        "outputId": "35ea6a72-4d9d-4c47-9b3e-72fab782a649"
      },
      "source": [
        "!pip install kaggle"
      ],
      "execution_count": null,
      "outputs": [
        {
          "output_type": "stream",
          "text": [
            "Requirement already satisfied: kaggle in /usr/local/lib/python3.6/dist-packages (1.5.10)\n",
            "Requirement already satisfied: python-slugify in /usr/local/lib/python3.6/dist-packages (from kaggle) (4.0.1)\n",
            "Requirement already satisfied: requests in /usr/local/lib/python3.6/dist-packages (from kaggle) (2.23.0)\n",
            "Requirement already satisfied: six>=1.10 in /usr/local/lib/python3.6/dist-packages (from kaggle) (1.15.0)\n",
            "Requirement already satisfied: tqdm in /usr/local/lib/python3.6/dist-packages (from kaggle) (4.41.1)\n",
            "Requirement already satisfied: python-dateutil in /usr/local/lib/python3.6/dist-packages (from kaggle) (2.8.1)\n",
            "Requirement already satisfied: certifi in /usr/local/lib/python3.6/dist-packages (from kaggle) (2020.12.5)\n",
            "Requirement already satisfied: urllib3 in /usr/local/lib/python3.6/dist-packages (from kaggle) (1.24.3)\n",
            "Requirement already satisfied: text-unidecode>=1.3 in /usr/local/lib/python3.6/dist-packages (from python-slugify->kaggle) (1.3)\n",
            "Requirement already satisfied: chardet<4,>=3.0.2 in /usr/local/lib/python3.6/dist-packages (from requests->kaggle) (3.0.4)\n",
            "Requirement already satisfied: idna<3,>=2.5 in /usr/local/lib/python3.6/dist-packages (from requests->kaggle) (2.10)\n"
          ],
          "name": "stdout"
        }
      ]
    },
    {
      "cell_type": "code",
      "metadata": {
        "id": "8DBJ_HsAH8cd"
      },
      "source": [
        "!mkdir .kaggle"
      ],
      "execution_count": null,
      "outputs": []
    },
    {
      "cell_type": "code",
      "metadata": {
        "id": "ee-otkv8H8fU"
      },
      "source": [
        "import json\n",
        "token = {\"username\":\"jilliangreen\",\"key\":\"de8d19d0ee14c2b4abc79bda5401e3d3\"}\n",
        "with open('/content/.kaggle/kaggle.json', 'w') as file:\n",
        "  json.dump(token, file)"
      ],
      "execution_count": null,
      "outputs": []
    },
    {
      "cell_type": "code",
      "metadata": {
        "id": "tuiSgRq-KMp6",
        "colab": {
          "base_uri": "https://localhost:8080/"
        },
        "outputId": "97ab6095-0bbf-4998-c3e2-49588c18288c"
      },
      "source": [
        "!mkdir ~/.kaggle\n",
        "!echo '{\"username\":\"jilliangreen\",\"key\":\"de8d19d0ee14c2b4abc79bda5401e3d3\"}' > ~/.kaggle/kaggle.json\n",
        "!chmod 600 ~/.kaggle/kaggle.json && pip install kaggle"
      ],
      "execution_count": null,
      "outputs": [
        {
          "output_type": "stream",
          "text": [
            "Requirement already satisfied: kaggle in /usr/local/lib/python3.6/dist-packages (1.5.10)\n",
            "Requirement already satisfied: urllib3 in /usr/local/lib/python3.6/dist-packages (from kaggle) (1.24.3)\n",
            "Requirement already satisfied: requests in /usr/local/lib/python3.6/dist-packages (from kaggle) (2.23.0)\n",
            "Requirement already satisfied: python-slugify in /usr/local/lib/python3.6/dist-packages (from kaggle) (4.0.1)\n",
            "Requirement already satisfied: tqdm in /usr/local/lib/python3.6/dist-packages (from kaggle) (4.41.1)\n",
            "Requirement already satisfied: python-dateutil in /usr/local/lib/python3.6/dist-packages (from kaggle) (2.8.1)\n",
            "Requirement already satisfied: certifi in /usr/local/lib/python3.6/dist-packages (from kaggle) (2020.12.5)\n",
            "Requirement already satisfied: six>=1.10 in /usr/local/lib/python3.6/dist-packages (from kaggle) (1.15.0)\n",
            "Requirement already satisfied: chardet<4,>=3.0.2 in /usr/local/lib/python3.6/dist-packages (from requests->kaggle) (3.0.4)\n",
            "Requirement already satisfied: idna<3,>=2.5 in /usr/local/lib/python3.6/dist-packages (from requests->kaggle) (2.10)\n",
            "Requirement already satisfied: text-unidecode>=1.3 in /usr/local/lib/python3.6/dist-packages (from python-slugify->kaggle) (1.3)\n"
          ],
          "name": "stdout"
        }
      ]
    },
    {
      "cell_type": "code",
      "metadata": {
        "id": "qvl-_svcKMsD",
        "colab": {
          "base_uri": "https://localhost:8080/"
        },
        "outputId": "7a5d63b7-49e1-4c1e-e77b-6b466473e1e1"
      },
      "source": [
        "!pip install --upgrade --force-reinstall --no-deps kaggle"
      ],
      "execution_count": null,
      "outputs": [
        {
          "output_type": "stream",
          "text": [
            "Collecting kaggle\n",
            "\u001b[?25l  Downloading https://files.pythonhosted.org/packages/99/33/365c0d13f07a2a54744d027fe20b60dacdfdfb33bc04746db6ad0b79340b/kaggle-1.5.10.tar.gz (59kB)\n",
            "\r\u001b[K     |█████▌                          | 10kB 13.3MB/s eta 0:00:01\r\u001b[K     |███████████                     | 20kB 13.2MB/s eta 0:00:01\r\u001b[K     |████████████████▋               | 30kB 8.6MB/s eta 0:00:01\r\u001b[K     |██████████████████████▏         | 40kB 7.1MB/s eta 0:00:01\r\u001b[K     |███████████████████████████▊    | 51kB 4.3MB/s eta 0:00:01\r\u001b[K     |████████████████████████████████| 61kB 2.9MB/s \n",
            "\u001b[?25hBuilding wheels for collected packages: kaggle\n",
            "  Building wheel for kaggle (setup.py) ... \u001b[?25l\u001b[?25hdone\n",
            "  Created wheel for kaggle: filename=kaggle-1.5.10-cp36-none-any.whl size=73269 sha256=abf0cd075c72032cbe0a450207beb5fafb84eabbb9d1b5319541434a4e4478c3\n",
            "  Stored in directory: /root/.cache/pip/wheels/3a/d1/7e/6ce09b72b770149802c653a02783821629146983ee5a360f10\n",
            "Successfully built kaggle\n",
            "Installing collected packages: kaggle\n",
            "  Found existing installation: kaggle 1.5.10\n",
            "    Uninstalling kaggle-1.5.10:\n",
            "      Successfully uninstalled kaggle-1.5.10\n",
            "Successfully installed kaggle-1.5.10\n"
          ],
          "name": "stdout"
        }
      ]
    },
    {
      "cell_type": "code",
      "metadata": {
        "id": "WPz7sYKHKMuA",
        "colab": {
          "base_uri": "https://localhost:8080/"
        },
        "outputId": "03ec6688-527c-4717-90bc-68e51e7ddf1a"
      },
      "source": [
        "!kaggle datasets list"
      ],
      "execution_count": null,
      "outputs": [
        {
          "output_type": "stream",
          "text": [
            "ref                                                       title                                         size  lastUpdated          downloadCount  voteCount  usabilityRating  \n",
            "--------------------------------------------------------  -------------------------------------------  -----  -------------------  -------------  ---------  ---------------  \n",
            "michau96/restaurant-business-rankings-2020                Restaurant Business Rankings 2020             16KB  2021-01-30 14:20:45           2606         73  1.0              \n",
            "gpreda/reddit-wallstreetsbets-posts                       Reddit WallStreetBets Posts                    8MB  2021-02-22 08:29:21           1533        237  1.0              \n",
            "yorkehead/stock-market-subreddits                         Stock Market Subreddits                        1MB  2021-01-29 13:53:50            283         19  1.0              \n",
            "aagghh/crypto-telegram-groups                             Crypto telegram groups                       297MB  2021-02-02 09:58:25            177         19  1.0              \n",
            "timoboz/superbowl-history-1967-2020                       Superbowl History 1967 - 2020                  2KB  2020-02-03 23:41:14           4594        202  1.0              \n",
            "prondeau/superbowlads                                     Super Bowl Ads                                36KB  2020-02-04 18:04:07           1224         60  1.0              \n",
            "jessemostipak/african-american-achievements               African American Achievements                 28KB  2020-06-08 22:15:20            239         17  0.8235294        \n",
            "iainmcintosh/wsb-gme-reddit-submission-vs-stock-price     WSB / GME Reddit submission vs stock price   210KB  2021-01-30 15:31:16             69          4  0.29411766       \n",
            "docsouth-data/north-american-slave-narratives             North American Slave Narratives               42MB  2017-08-14 18:54:00            197         18  0.7647059        \n",
            "docsouth-data/the-church-in-the-southern-black-community  The Church in the Southern Black Community    28MB  2017-08-14 19:50:28            124         13  0.7058824        \n",
            "shivamb/netflix-shows                                     Netflix Movies and TV Shows                    1MB  2021-01-18 16:20:26          94823       3542  1.0              \n",
            "gpreda/covid-world-vaccination-progress                   COVID-19 World Vaccination Progress           82KB  2021-02-22 08:27:58          15175        765  1.0              \n",
            "arashnic/hr-analytics-job-change-of-data-scientists       HR Analytics: Job Change of Data Scientists  295KB  2020-12-07 00:25:10           9093        535  1.0              \n",
            "jsphyg/weather-dataset-rattle-package                     Rain in Australia                              4MB  2020-12-11 10:26:12          34129        704  1.0              \n",
            "ayushggarg/all-trumps-twitter-insults-20152021            All Trump's Twitter insults (2015-2021)      581KB  2021-01-20 16:51:05           3410        344  1.0              \n",
            "sakshigoyal7/credit-card-customers                        Credit Card customers                        379KB  2020-11-19 07:38:44          26639        916  1.0              \n",
            "datasnaek/youtube-new                                     Trending YouTube Video Statistics            201MB  2019-06-03 00:56:47         128109       3609  0.7941176        \n",
            "gpreda/pfizer-vaccine-tweets                              Pfizer Vaccine Tweets                        974KB  2021-02-22 08:27:02           4432        290  1.0              \n",
            "google/tinyquickdraw                                      QuickDraw Sketches                            11GB  2018-04-18 19:38:04           2845        345  0.8125           \n",
            "zynicide/wine-reviews                                     Wine Reviews                                  51MB  2017-11-27 17:08:04         128837       2922  0.7941176        \n"
          ],
          "name": "stdout"
        }
      ]
    },
    {
      "cell_type": "code",
      "metadata": {
        "id": "5ZG1EgCHKMwJ",
        "colab": {
          "base_uri": "https://localhost:8080/"
        },
        "outputId": "deaa17c9-2b39-4940-c74d-739779461cf0"
      },
      "source": [
        "!rm -r cassava-leaf-disease-classification\n",
        "!mkdir cassava-leaf-disease-classification\n",
        "!kaggle competitions download -c cassava-leaf-disease-classification -p cassava-leaf-disease-classification\n",
        "\n"
      ],
      "execution_count": null,
      "outputs": [
        {
          "output_type": "stream",
          "text": [
            "rm: cannot remove 'cassava-leaf-disease-classification': No such file or directory\n",
            "Downloading cassava-leaf-disease-classification.zip to cassava-leaf-disease-classification\n",
            "100% 5.76G/5.76G [01:24<00:00, 112MB/s] \n",
            "100% 5.76G/5.76G [01:24<00:00, 72.8MB/s]\n"
          ],
          "name": "stdout"
        }
      ]
    },
    {
      "cell_type": "code",
      "metadata": {
        "id": "Zk0J79brKMx8"
      },
      "source": [
        "from zipfile import ZipFile\n",
        "file_name = '/content/cassava-leaf-disease-classification/cassava-leaf-disease-classification.zip'\n",
        "\n",
        "with ZipFile(file_name, 'r') as zip:\n",
        "  zip.printdir()\n",
        "\n",
        "  print(\"Extracting new files\")\n",
        "  zip.extractall()\n",
        "  print(\"done!\")"
      ],
      "execution_count": null,
      "outputs": []
    },
    {
      "cell_type": "code",
      "metadata": {
        "id": "IzEhoU1uNC2o",
        "colab": {
          "base_uri": "https://localhost:8080/"
        },
        "outputId": "682a55b1-0206-437e-cd53-3abe41edf29a"
      },
      "source": [
        "ls"
      ],
      "execution_count": null,
      "outputs": [
        {
          "output_type": "stream",
          "text": [
            "\u001b[0m\u001b[01;34mcassava-leaf-disease-classification\u001b[0m/  sample_submission.csv  \u001b[01;34mtrain_images\u001b[0m/\n",
            "\u001b[01;34mdrive\u001b[0m/                                \u001b[01;34mtest_images\u001b[0m/           \u001b[01;34mtrain_tfrecords\u001b[0m/\n",
            "label_num_to_disease_map.json         \u001b[01;34mtest_tfrecords\u001b[0m/\n",
            "\u001b[01;34msample_data\u001b[0m/                          train.csv\n"
          ],
          "name": "stdout"
        }
      ]
    },
    {
      "cell_type": "code",
      "metadata": {
        "id": "6j1DAItWj28r"
      },
      "source": [
        "!mv /content/label_num_to_disease_map.json /content/drive/Shareddrives/2040_Midterm_Project/Classy_Classifiers/data/label_num_to_disease_map.json"
      ],
      "execution_count": null,
      "outputs": []
    },
    {
      "cell_type": "code",
      "metadata": {
        "id": "qnkyZpzekFsR"
      },
      "source": [
        "!mv /content/train.csv /content/drive/Shareddrives/2040_Midterm_Project/Classy_Classifiers/data/train.csv"
      ],
      "execution_count": null,
      "outputs": []
    },
    {
      "cell_type": "code",
      "metadata": {
        "id": "akUvjujqkRmT"
      },
      "source": [
        "!mv /content/train_images/ /content/drive/Shareddrives/2040_Midterm_Project/Classy_Classifiers/data/train_images"
      ],
      "execution_count": null,
      "outputs": []
    },
    {
      "cell_type": "code",
      "metadata": {
        "id": "og1_yLtlUBiX"
      },
      "source": [
        "!mv /content/sample_submission.csv /content/drive/Shareddrives/2040_Midterm_Project/Classy_Classifiers/data/sample_submission.csv"
      ],
      "execution_count": null,
      "outputs": []
    },
    {
      "cell_type": "code",
      "metadata": {
        "id": "V6X6qqGvUOKw"
      },
      "source": [
        "!mv /content/test_images/ /content/drive/Shareddrives/2040_Midterm_Project/Classy_Classifiers/data/test_images"
      ],
      "execution_count": null,
      "outputs": []
    },
    {
      "cell_type": "code",
      "metadata": {
        "id": "rK0CSP6bVHu-"
      },
      "source": [
        "import shutil\n",
        "import os\n",
        "\n",
        "source = '/content'\n",
        "dest = '/content/drive/Shareddrives/2040_Midterm_Project/Classy_Classifiers/data'\n",
        "\n",
        "files = os.listdir(source)\n",
        "\n",
        "files_to_move = ['label_num_to_disease_map.json', 'train.csv', 'train_images']\n",
        "\n",
        "for f in files_to_move:\n",
        "  shutil.move(f, dest)"
      ],
      "execution_count": null,
      "outputs": []
    }
  ]
}